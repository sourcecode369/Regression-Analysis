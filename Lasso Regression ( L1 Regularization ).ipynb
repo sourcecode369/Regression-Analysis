{
 "cells": [
  {
   "cell_type": "code",
   "execution_count": 1,
   "metadata": {},
   "outputs": [],
   "source": [
    "import numpy as np\n",
    "import matplotlib.pyplot as plt\n",
    "import seaborn as sns\n",
    "import pandas as pd\n",
    "sns.set_style('whitegrid')\n",
    "sns.set_context('notebook')"
   ]
  },
  {
   "cell_type": "code",
   "execution_count": 2,
   "metadata": {},
   "outputs": [],
   "source": [
    "N = 50\n",
    "D = 50"
   ]
  },
  {
   "cell_type": "code",
   "execution_count": 4,
   "metadata": {},
   "outputs": [],
   "source": [
    "X = (np.random.random((N,D))-0.5)*10"
   ]
  },
  {
   "cell_type": "code",
   "execution_count": 5,
   "metadata": {},
   "outputs": [],
   "source": [
    "true_w = np.array([1,0.5,-0.5]+[0]*(D-3))"
   ]
  },
  {
   "cell_type": "code",
   "execution_count": 6,
   "metadata": {},
   "outputs": [],
   "source": [
    "Y = X.dot(true_w) + np.random.randn(N)*0.5"
   ]
  },
  {
   "cell_type": "code",
   "execution_count": 8,
   "metadata": {},
   "outputs": [],
   "source": [
    "costs = []\n",
    "w = np.random.randn(D) / np.sqrt(D)\n",
    "learning_rate = 0.001\n",
    "l1 = 10"
   ]
  },
  {
   "cell_type": "code",
   "execution_count": 10,
   "metadata": {},
   "outputs": [],
   "source": [
    "for t in range(500):\n",
    "    y_hat = X.dot(w)\n",
    "    delta = y_hat - Y\n",
    "    w = w - learning_rate*(X.T.dot(delta) + l1*np.sign(w))\n",
    "    mse = delta.dot(delta)/N\n",
    "    costs.append(mse)"
   ]
  },
  {
   "cell_type": "code",
   "execution_count": 11,
   "metadata": {},
   "outputs": [
    {
     "data": {
      "text/plain": [
       "<function matplotlib.pyplot.show>"
      ]
     },
     "execution_count": 11,
     "metadata": {},
     "output_type": "execute_result"
    },
    {
     "data": {
      "image/png": "[encoded data removed]",
      "text/plain": [
       "<matplotlib.figure.Figure at 0x18c929f9ef0>"
      ]
     },
     "metadata": {},
     "output_type": "display_data"
    }
   ],
   "source": [
    "plt.plot(costs)\n",
    "plt.show"
   ]
  },
  {
   "cell_type": "code",
   "execution_count": 14,
   "metadata": {},
   "outputs": [
    {
     "name": "stdout",
     "output_type": "stream",
     "text": [
      "final w:  [ 9.43306880e-01  4.90945458e-01 -4.87450422e-01  1.08900324e-02\n",
      "  1.25829376e-02 -1.73875185e-02 -1.21638363e-02 -1.15647216e-02\n",
      "  2.71421423e-02 -8.44823570e-03  1.18789109e-02  1.49747269e-02\n",
      "  2.76585038e-02 -7.68595165e-04  1.00057710e-02  4.80920899e-03\n",
      " -3.11499167e-03 -9.90539329e-03 -1.19277686e-03 -1.71438470e-02\n",
      " -9.79675197e-03  3.20580297e-03  1.17652510e-03 -2.20877866e-02\n",
      "  1.33986756e-02  3.14371942e-02  1.21609861e-02 -7.06241770e-03\n",
      "  2.68327409e-02  2.12194774e-02  1.00585139e-02 -2.95708328e-03\n",
      "  6.65979816e-03  1.07558706e-02  1.12575772e-02 -4.62467969e-03\n",
      " -2.12105615e-02  2.16639912e-02 -2.79094340e-03 -3.10835288e-02\n",
      " -1.17835185e-02 -7.81370296e-04 -7.42759404e-03  1.91147902e-02\n",
      "  5.61093560e-03  3.86005834e-03  1.46161287e-02  2.98935320e-02\n",
      " -3.00094563e-02  6.04853544e-03]\n"
     ]
    }
   ],
   "source": [
    "print(\"final w: \", w)"
   ]
  },
  {
   "cell_type": "code",
   "execution_count": 15,
   "metadata": {},
   "outputs": [
    {
     "data": {
      "image/png": "[encoded data removed]",
      "text/plain": [
       "<matplotlib.figure.Figure at 0x18c92f176d8>"
      ]
     },
     "metadata": {},
     "output_type": "display_data"
    }
   ],
   "source": [
    "plt.plot(true_w,label = 'true_w')\n",
    "plt.plot(w, label='w_map')\n",
    "plt.legend()\n",
    "plt.show()"
   ]
  }
 ],
 "metadata": {
  "kernelspec": {
   "display_name": "Python 3",
   "language": "python",
   "name": "python3"
  },
  "language_info": {
   "codemirror_mode": {
    "name": "ipython",
    "version": 3
   },
   "file_extension": ".py",
   "mimetype": "text/x-python",
   "name": "python",
   "nbconvert_exporter": "python",
   "pygments_lexer": "ipython3",
   "version": "3.6.4"
  }
 },
 "nbformat": 4,
 "nbformat_minor": 2
}
